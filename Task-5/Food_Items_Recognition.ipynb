{
  "nbformat": 4,
  "nbformat_minor": 0,
  "metadata": {
    "colab": {
      "provenance": [],
      "authorship_tag": "ABX9TyMp4EfagNFx0392n8tVMkmV",
      "include_colab_link": true
    },
    "kernelspec": {
      "name": "python3",
      "display_name": "Python 3"
    },
    "language_info": {
      "name": "python"
    }
  },
  "cells": [
    {
      "cell_type": "markdown",
      "metadata": {
        "id": "view-in-github",
        "colab_type": "text"
      },
      "source": [
        "<a href=\"https://colab.research.google.com/github/Jeetkavaiya/Prasunet-Internship-Tasks/blob/main/Food_Items_Recognition.ipynb\" target=\"_parent\"><img src=\"https://colab.research.google.com/assets/colab-badge.svg\" alt=\"Open In Colab\"/></a>"
      ]
    },
    {
      "cell_type": "code",
      "execution_count": null,
      "metadata": {
        "id": "cNZSZkmT01Lo"
      },
      "outputs": [],
      "source": [
        "!mkdir -p ~/.kaggle\n",
        "!cp kaggle.json ~/.kaggle/"
      ]
    },
    {
      "cell_type": "code",
      "source": [
        "!kaggle datasets download -d kritikseth/fruit-and-vegetable-image-recognition"
      ],
      "metadata": {
        "colab": {
          "base_uri": "https://localhost:8080/"
        },
        "id": "RyoJCR7p8cl9",
        "outputId": "2692af95-c8bd-4e4c-87d7-234d3ee5d054"
      },
      "execution_count": null,
      "outputs": [
        {
          "output_type": "stream",
          "name": "stdout",
          "text": [
            "Warning: Your Kaggle API key is readable by other users on this system! To fix this, you can run 'chmod 600 /root/.kaggle/kaggle.json'\n",
            "Dataset URL: https://www.kaggle.com/datasets/kritikseth/fruit-and-vegetable-image-recognition\n",
            "License(s): CC0-1.0\n",
            "Downloading fruit-and-vegetable-image-recognition.zip to /content\n",
            "100% 1.98G/1.98G [01:12<00:00, 31.2MB/s]\n",
            "100% 1.98G/1.98G [01:12<00:00, 29.5MB/s]\n"
          ]
        }
      ]
    },
    {
      "cell_type": "code",
      "source": [
        "import zipfile\n",
        "zip_ref = zipfile.ZipFile('/content/fruit-and-vegetable-image-recognition.zip', 'r')\n",
        "zip_ref.extractall('/content')\n",
        "zip_ref.close()"
      ],
      "metadata": {
        "id": "63PYa-RI8s5p"
      },
      "execution_count": null,
      "outputs": []
    },
    {
      "cell_type": "code",
      "source": [
        "import numpy as np\n",
        "import pandas as pd\n",
        "import matplotlib.pyplot as plt\n",
        "import tensorflow as tf"
      ],
      "metadata": {
        "id": "z2oUQuS69SUP"
      },
      "execution_count": null,
      "outputs": []
    },
    {
      "cell_type": "markdown",
      "source": [
        "## Data Preprocessing"
      ],
      "metadata": {
        "id": "fqMNZsSk943u"
      }
    },
    {
      "cell_type": "markdown",
      "source": [
        "### Training Image Processing\n"
      ],
      "metadata": {
        "id": "na4wTvkd-5A1"
      }
    },
    {
      "cell_type": "code",
      "source": [
        "training_set = tf.keras.utils.image_dataset_from_directory(\n",
        "    '/content/train',\n",
        "    labels=\"inferred\",\n",
        "    label_mode=\"categorical\",\n",
        "    class_names=None,\n",
        "    color_mode=\"rgb\",\n",
        "    batch_size=32,\n",
        "    image_size=(64, 64),\n",
        "    shuffle=True,\n",
        "    seed=None,\n",
        "    validation_split=None,\n",
        "    subset=None,\n",
        "    interpolation=\"bilinear\",\n",
        "    follow_links=False,\n",
        "    crop_to_aspect_ratio=False\n",
        ")"
      ],
      "metadata": {
        "colab": {
          "base_uri": "https://localhost:8080/"
        },
        "id": "ofu4fmv3-CnE",
        "outputId": "7dc38f97-7a10-4ddd-e34a-0b6dbdcba2c9"
      },
      "execution_count": null,
      "outputs": [
        {
          "output_type": "stream",
          "name": "stdout",
          "text": [
            "Found 3115 files belonging to 36 classes.\n"
          ]
        }
      ]
    },
    {
      "cell_type": "markdown",
      "source": [
        "### Validation Image Processing"
      ],
      "metadata": {
        "id": "cc5oSHzH_FJt"
      }
    },
    {
      "cell_type": "code",
      "source": [
        "validation_set = tf.keras.utils.image_dataset_from_directory(\n",
        "    '/content/validation',\n",
        "    labels=\"inferred\",\n",
        "    label_mode=\"categorical\",\n",
        "    class_names=None,\n",
        "    color_mode=\"rgb\",\n",
        "    batch_size=32,\n",
        "    image_size=(64, 64),\n",
        "    shuffle=True,\n",
        "    seed=None,\n",
        "    validation_split=None,\n",
        "    subset=None,\n",
        "    interpolation=\"bilinear\",\n",
        "    follow_links=False,\n",
        "    crop_to_aspect_ratio=False\n",
        ")"
      ],
      "metadata": {
        "colab": {
          "base_uri": "https://localhost:8080/"
        },
        "id": "P8ezpK0--n7e",
        "outputId": "e14bbb8e-a3f1-4bff-9b16-eded1bd8a576"
      },
      "execution_count": null,
      "outputs": [
        {
          "output_type": "stream",
          "name": "stdout",
          "text": [
            "Found 351 files belonging to 36 classes.\n"
          ]
        }
      ]
    },
    {
      "cell_type": "markdown",
      "source": [
        "## Building Model"
      ],
      "metadata": {
        "id": "Uz9yGoPE_pqR"
      }
    },
    {
      "cell_type": "code",
      "source": [
        "cnn = tf.keras.models.Sequential()"
      ],
      "metadata": {
        "id": "H_hfGVPt_j9n"
      },
      "execution_count": null,
      "outputs": []
    },
    {
      "cell_type": "code",
      "source": [
        "cnn.add(tf.keras.layers.Conv2D(filters=32,kernel_size=3,padding='same',activation='relu',input_shape=[64,64,3]))\n",
        "cnn.add(tf.keras.layers.Conv2D(filters=32,kernel_size=3,activation='relu'))\n",
        "cnn.add(tf.keras.layers.MaxPool2D(pool_size=2,strides=2))"
      ],
      "metadata": {
        "id": "XcGWA6ih_vZs"
      },
      "execution_count": null,
      "outputs": []
    },
    {
      "cell_type": "code",
      "source": [
        "cnn.add(tf.keras.layers.Dropout(0.25))"
      ],
      "metadata": {
        "id": "nNmkC6Qf_3_j"
      },
      "execution_count": null,
      "outputs": []
    },
    {
      "cell_type": "code",
      "source": [
        "cnn.add(tf.keras.layers.Conv2D(filters=64,kernel_size=3,padding='same',activation='relu'))\n",
        "cnn.add(tf.keras.layers.Conv2D(filters=64,kernel_size=3,activation='relu'))\n",
        "cnn.add(tf.keras.layers.MaxPool2D(pool_size=2,strides=2))"
      ],
      "metadata": {
        "id": "LblqWZmUAF-f"
      },
      "execution_count": null,
      "outputs": []
    },
    {
      "cell_type": "code",
      "source": [
        "cnn.add(tf.keras.layers.Dropout(0.25))"
      ],
      "metadata": {
        "id": "WP0H2PclAIj7"
      },
      "execution_count": null,
      "outputs": []
    },
    {
      "cell_type": "code",
      "source": [
        "cnn.add(tf.keras.layers.Flatten())"
      ],
      "metadata": {
        "id": "eEp5bY9vAQ9a"
      },
      "execution_count": null,
      "outputs": []
    },
    {
      "cell_type": "code",
      "source": [
        "cnn.add(tf.keras.layers.Dense(units=512,activation='relu'))\n",
        "cnn.add(tf.keras.layers.Dense(units=256,activation='relu'))"
      ],
      "metadata": {
        "id": "jltR4f-KAdEg"
      },
      "execution_count": null,
      "outputs": []
    },
    {
      "cell_type": "code",
      "source": [
        "cnn.add(tf.keras.layers.Dropout(0.5)) #To avoid overfitting"
      ],
      "metadata": {
        "id": "tivffiV7ApvB"
      },
      "execution_count": null,
      "outputs": []
    },
    {
      "cell_type": "code",
      "source": [
        "#Output Layer\n",
        "cnn.add(tf.keras.layers.Dense(units=36,activation='softmax'))"
      ],
      "metadata": {
        "id": "rwC2CKBGAr86"
      },
      "execution_count": null,
      "outputs": []
    },
    {
      "cell_type": "markdown",
      "source": [
        "## Compiling and Training"
      ],
      "metadata": {
        "id": "xMn7QdM5BVDq"
      }
    },
    {
      "cell_type": "code",
      "source": [
        "cnn.compile(optimizer='adam',loss='categorical_crossentropy',metrics=['accuracy'])"
      ],
      "metadata": {
        "id": "EQvR4ySMAwb0"
      },
      "execution_count": null,
      "outputs": []
    },
    {
      "cell_type": "code",
      "source": [
        "cnn.summary()"
      ],
      "metadata": {
        "colab": {
          "base_uri": "https://localhost:8080/"
        },
        "id": "NaXZT5UHBdcA",
        "outputId": "fa85d9d1-168e-46a3-fa3b-1574fe1bef9a"
      },
      "execution_count": null,
      "outputs": [
        {
          "output_type": "stream",
          "name": "stdout",
          "text": [
            "Model: \"sequential\"\n",
            "_________________________________________________________________\n",
            " Layer (type)                Output Shape              Param #   \n",
            "=================================================================\n",
            " conv2d (Conv2D)             (None, 64, 64, 32)        896       \n",
            "                                                                 \n",
            " conv2d_1 (Conv2D)           (None, 62, 62, 32)        9248      \n",
            "                                                                 \n",
            " max_pooling2d (MaxPooling2  (None, 31, 31, 32)        0         \n",
            " D)                                                              \n",
            "                                                                 \n",
            " dropout (Dropout)           (None, 31, 31, 32)        0         \n",
            "                                                                 \n",
            " conv2d_2 (Conv2D)           (None, 31, 31, 64)        18496     \n",
            "                                                                 \n",
            " conv2d_3 (Conv2D)           (None, 29, 29, 64)        36928     \n",
            "                                                                 \n",
            " max_pooling2d_1 (MaxPoolin  (None, 14, 14, 64)        0         \n",
            " g2D)                                                            \n",
            "                                                                 \n",
            " dropout_1 (Dropout)         (None, 14, 14, 64)        0         \n",
            "                                                                 \n",
            " flatten (Flatten)           (None, 12544)             0         \n",
            "                                                                 \n",
            " dense (Dense)               (None, 512)               6423040   \n",
            "                                                                 \n",
            " dense_1 (Dense)             (None, 256)               131328    \n",
            "                                                                 \n",
            " dropout_2 (Dropout)         (None, 256)               0         \n",
            "                                                                 \n",
            " dense_2 (Dense)             (None, 36)                9252      \n",
            "                                                                 \n",
            "=================================================================\n",
            "Total params: 6629188 (25.29 MB)\n",
            "Trainable params: 6629188 (25.29 MB)\n",
            "Non-trainable params: 0 (0.00 Byte)\n",
            "_________________________________________________________________\n"
          ]
        }
      ]
    },
    {
      "cell_type": "code",
      "source": [
        "training_history = cnn.fit(x=training_set,validation_data=validation_set,epochs=32)"
      ],
      "metadata": {
        "colab": {
          "base_uri": "https://localhost:8080/"
        },
        "id": "WiExBSo-BgIj",
        "outputId": "44ef4e79-89aa-4231-fa83-055cc43cbb4f"
      },
      "execution_count": null,
      "outputs": [
        {
          "output_type": "stream",
          "name": "stdout",
          "text": [
            "Epoch 1/32\n",
            "98/98 [==============================] - 74s 635ms/step - loss: 6.6938 - accuracy: 0.0276 - val_loss: 3.5827 - val_accuracy: 0.0285\n",
            "Epoch 2/32\n",
            "98/98 [==============================] - 66s 615ms/step - loss: 3.5805 - accuracy: 0.0302 - val_loss: 3.5771 - val_accuracy: 0.0285\n",
            "Epoch 3/32\n",
            "98/98 [==============================] - 65s 615ms/step - loss: 3.5741 - accuracy: 0.0372 - val_loss: 3.5644 - val_accuracy: 0.0399\n",
            "Epoch 4/32\n",
            "98/98 [==============================] - 65s 622ms/step - loss: 3.5597 - accuracy: 0.0353 - val_loss: 3.5177 - val_accuracy: 0.0627\n",
            "Epoch 5/32\n",
            "98/98 [==============================] - 65s 611ms/step - loss: 3.5456 - accuracy: 0.0440 - val_loss: 3.4979 - val_accuracy: 0.0627\n",
            "Epoch 6/32\n",
            "98/98 [==============================] - 65s 621ms/step - loss: 3.5289 - accuracy: 0.0485 - val_loss: 3.4178 - val_accuracy: 0.0855\n",
            "Epoch 7/32\n",
            "98/98 [==============================] - 65s 626ms/step - loss: 3.5116 - accuracy: 0.0559 - val_loss: 3.3905 - val_accuracy: 0.0940\n",
            "Epoch 8/32\n",
            "98/98 [==============================] - 65s 619ms/step - loss: 3.5206 - accuracy: 0.0539 - val_loss: 3.4942 - val_accuracy: 0.0655\n",
            "Epoch 9/32\n",
            "98/98 [==============================] - 65s 620ms/step - loss: 3.4999 - accuracy: 0.0636 - val_loss: 3.4905 - val_accuracy: 0.0741\n",
            "Epoch 10/32\n",
            "98/98 [==============================] - 65s 618ms/step - loss: 3.4684 - accuracy: 0.0665 - val_loss: 3.4057 - val_accuracy: 0.0969\n",
            "Epoch 11/32\n",
            "98/98 [==============================] - 65s 619ms/step - loss: 3.4991 - accuracy: 0.0626 - val_loss: 3.4612 - val_accuracy: 0.0769\n",
            "Epoch 12/32\n",
            "98/98 [==============================] - 65s 624ms/step - loss: 3.4454 - accuracy: 0.0681 - val_loss: 3.3488 - val_accuracy: 0.1111\n",
            "Epoch 13/32\n",
            "98/98 [==============================] - 65s 626ms/step - loss: 3.4140 - accuracy: 0.0803 - val_loss: 3.3529 - val_accuracy: 0.1111\n",
            "Epoch 14/32\n",
            "98/98 [==============================] - 66s 627ms/step - loss: 3.3689 - accuracy: 0.0941 - val_loss: 3.2680 - val_accuracy: 0.1481\n",
            "Epoch 15/32\n",
            "98/98 [==============================] - 65s 620ms/step - loss: 3.3086 - accuracy: 0.1207 - val_loss: 3.1933 - val_accuracy: 0.1567\n",
            "Epoch 16/32\n",
            "98/98 [==============================] - 65s 619ms/step - loss: 3.2237 - accuracy: 0.1396 - val_loss: 3.0980 - val_accuracy: 0.2194\n",
            "Epoch 17/32\n",
            "98/98 [==============================] - 65s 621ms/step - loss: 3.1012 - accuracy: 0.1563 - val_loss: 3.1086 - val_accuracy: 0.2051\n",
            "Epoch 18/32\n",
            "98/98 [==============================] - 65s 618ms/step - loss: 3.0437 - accuracy: 0.1634 - val_loss: 2.8546 - val_accuracy: 0.2564\n",
            "Epoch 19/32\n",
            "98/98 [==============================] - 65s 619ms/step - loss: 2.9053 - accuracy: 0.1987 - val_loss: 2.5342 - val_accuracy: 0.3932\n",
            "Epoch 20/32\n",
            "98/98 [==============================] - 65s 620ms/step - loss: 2.8599 - accuracy: 0.2128 - val_loss: 2.5568 - val_accuracy: 0.3561\n",
            "Epoch 21/32\n",
            "98/98 [==============================] - 65s 623ms/step - loss: 2.7219 - accuracy: 0.2494 - val_loss: 2.3677 - val_accuracy: 0.4330\n",
            "Epoch 22/32\n",
            "98/98 [==============================] - 64s 613ms/step - loss: 2.6103 - accuracy: 0.2787 - val_loss: 2.2291 - val_accuracy: 0.4530\n",
            "Epoch 23/32\n",
            "98/98 [==============================] - 66s 630ms/step - loss: 2.5093 - accuracy: 0.2902 - val_loss: 2.0962 - val_accuracy: 0.4587\n",
            "Epoch 24/32\n",
            "98/98 [==============================] - 64s 608ms/step - loss: 2.4125 - accuracy: 0.3274 - val_loss: 1.9603 - val_accuracy: 0.5185\n",
            "Epoch 25/32\n",
            "98/98 [==============================] - 64s 611ms/step - loss: 2.3071 - accuracy: 0.3525 - val_loss: 1.8533 - val_accuracy: 0.5242\n",
            "Epoch 26/32\n",
            "98/98 [==============================] - 64s 611ms/step - loss: 2.2495 - accuracy: 0.3701 - val_loss: 1.8124 - val_accuracy: 0.5698\n",
            "Epoch 27/32\n",
            "98/98 [==============================] - 64s 613ms/step - loss: 2.0932 - accuracy: 0.4071 - val_loss: 1.8472 - val_accuracy: 0.5840\n",
            "Epoch 28/32\n",
            "98/98 [==============================] - 64s 615ms/step - loss: 2.0354 - accuracy: 0.4331 - val_loss: 1.7016 - val_accuracy: 0.5726\n",
            "Epoch 29/32\n",
            "98/98 [==============================] - 65s 622ms/step - loss: 1.9503 - accuracy: 0.4632 - val_loss: 1.8412 - val_accuracy: 0.6268\n",
            "Epoch 30/32\n",
            "98/98 [==============================] - 64s 617ms/step - loss: 1.8868 - accuracy: 0.4860 - val_loss: 1.7369 - val_accuracy: 0.6154\n",
            "Epoch 31/32\n",
            "98/98 [==============================] - 64s 614ms/step - loss: 1.9334 - accuracy: 0.4742 - val_loss: 1.5562 - val_accuracy: 0.6581\n",
            "Epoch 32/32\n",
            "98/98 [==============================] - 64s 612ms/step - loss: 1.7456 - accuracy: 0.5098 - val_loss: 1.3187 - val_accuracy: 0.6923\n"
          ]
        }
      ]
    },
    {
      "cell_type": "markdown",
      "source": [
        "## Evaluating Model"
      ],
      "metadata": {
        "id": "xRiZd5ykK27Y"
      }
    },
    {
      "cell_type": "code",
      "source": [
        "#Training set Accuracy\n",
        "train_loss, train_acc = cnn.evaluate(training_set)\n",
        "print('Training accuracy:', train_acc)"
      ],
      "metadata": {
        "colab": {
          "base_uri": "https://localhost:8080/"
        },
        "id": "BM59Ct4dBjEk",
        "outputId": "3f35c8b2-a4a1-4c81-ef5b-03e3bb62a4c1"
      },
      "execution_count": null,
      "outputs": [
        {
          "output_type": "stream",
          "name": "stdout",
          "text": [
            "98/98 [==============================] - 55s 516ms/step - loss: 1.2344 - accuracy: 0.6831\n",
            "Training accuracy: 0.683146059513092\n"
          ]
        }
      ]
    },
    {
      "cell_type": "code",
      "source": [
        "#Validation set Accuracy\n",
        "val_loss, val_acc = cnn.evaluate(validation_set)\n",
        "print('Validation accuracy:', val_acc)"
      ],
      "metadata": {
        "colab": {
          "base_uri": "https://localhost:8080/"
        },
        "id": "qhcZy9ZJK8wV",
        "outputId": "fb71dee0-9500-4b45-850d-612f9d0ab915"
      },
      "execution_count": null,
      "outputs": [
        {
          "output_type": "stream",
          "name": "stdout",
          "text": [
            "11/11 [==============================] - 9s 143ms/step - loss: 1.3187 - accuracy: 0.6923\n",
            "Validation accuracy: 0.692307710647583\n"
          ]
        }
      ]
    },
    {
      "cell_type": "markdown",
      "source": [
        "## Saving Model"
      ],
      "metadata": {
        "id": "3aX-PfMmLM_9"
      }
    },
    {
      "cell_type": "code",
      "source": [
        "cnn.save('trained_model.h5')"
      ],
      "metadata": {
        "colab": {
          "base_uri": "https://localhost:8080/"
        },
        "id": "FWgA0QSdLMK1",
        "outputId": "b5111cbf-ca9d-4f86-b0ae-c4ae25bcd104"
      },
      "execution_count": null,
      "outputs": [
        {
          "output_type": "stream",
          "name": "stderr",
          "text": [
            "/usr/local/lib/python3.10/dist-packages/keras/src/engine/training.py:3103: UserWarning: You are saving your model as an HDF5 file via `model.save()`. This file format is considered legacy. We recommend using instead the native Keras format, e.g. `model.save('my_model.keras')`.\n",
            "  saving_api.save_model(\n"
          ]
        }
      ]
    },
    {
      "cell_type": "code",
      "source": [
        "training_history.history"
      ],
      "metadata": {
        "colab": {
          "base_uri": "https://localhost:8080/"
        },
        "id": "zxPweHUJLgXa",
        "outputId": "1beeeacf-d497-4081-8ff8-3e7c5fba8e3c"
      },
      "execution_count": null,
      "outputs": [
        {
          "output_type": "execute_result",
          "data": {
            "text/plain": [
              "{'loss': [6.693798065185547,\n",
              "  3.5804686546325684,\n",
              "  3.574070453643799,\n",
              "  3.559678792953491,\n",
              "  3.545645236968994,\n",
              "  3.528852701187134,\n",
              "  3.5115702152252197,\n",
              "  3.5206499099731445,\n",
              "  3.4998996257781982,\n",
              "  3.4684383869171143,\n",
              "  3.4990792274475098,\n",
              "  3.4453794956207275,\n",
              "  3.4140496253967285,\n",
              "  3.3689305782318115,\n",
              "  3.3086345195770264,\n",
              "  3.22369122505188,\n",
              "  3.101206064224243,\n",
              "  3.0437216758728027,\n",
              "  2.905341148376465,\n",
              "  2.859853506088257,\n",
              "  2.7218778133392334,\n",
              "  2.610278606414795,\n",
              "  2.509321689605713,\n",
              "  2.4124670028686523,\n",
              "  2.307110548019409,\n",
              "  2.2495486736297607,\n",
              "  2.09323787689209,\n",
              "  2.0353660583496094,\n",
              "  1.950342059135437,\n",
              "  1.8867758512496948,\n",
              "  1.9334304332733154,\n",
              "  1.7456194162368774],\n",
              " 'accuracy': [0.027608346194028854,\n",
              "  0.030176565051078796,\n",
              "  0.03723916411399841,\n",
              "  0.03531300276517868,\n",
              "  0.04398074001073837,\n",
              "  0.04847512021660805,\n",
              "  0.05585874617099762,\n",
              "  0.05393258482217789,\n",
              "  0.06356340646743774,\n",
              "  0.06645264476537704,\n",
              "  0.06260032206773758,\n",
              "  0.06805778294801712,\n",
              "  0.08025681972503662,\n",
              "  0.0940609946846962,\n",
              "  0.12070626020431519,\n",
              "  0.13964687287807465,\n",
              "  0.15634028613567352,\n",
              "  0.16340288519859314,\n",
              "  0.19871589541435242,\n",
              "  0.21284109354019165,\n",
              "  0.24943819642066956,\n",
              "  0.2786516845226288,\n",
              "  0.2902086675167084,\n",
              "  0.3274478316307068,\n",
              "  0.3524879515171051,\n",
              "  0.37014445662498474,\n",
              "  0.4070625901222229,\n",
              "  0.433065801858902,\n",
              "  0.46324238181114197,\n",
              "  0.4860353171825409,\n",
              "  0.47415730357170105,\n",
              "  0.5097913146018982],\n",
              " 'val_loss': [3.5827066898345947,\n",
              "  3.5771050453186035,\n",
              "  3.564368963241577,\n",
              "  3.5176825523376465,\n",
              "  3.4978997707366943,\n",
              "  3.417818546295166,\n",
              "  3.3904879093170166,\n",
              "  3.49416184425354,\n",
              "  3.490468740463257,\n",
              "  3.405665636062622,\n",
              "  3.4611589908599854,\n",
              "  3.3487980365753174,\n",
              "  3.3528642654418945,\n",
              "  3.2680368423461914,\n",
              "  3.193312406539917,\n",
              "  3.0979535579681396,\n",
              "  3.1086409091949463,\n",
              "  2.854584217071533,\n",
              "  2.534235954284668,\n",
              "  2.556826591491699,\n",
              "  2.3677031993865967,\n",
              "  2.2290656566619873,\n",
              "  2.0962374210357666,\n",
              "  1.9602736234664917,\n",
              "  1.8533302545547485,\n",
              "  1.8123779296875,\n",
              "  1.84722101688385,\n",
              "  1.7016481161117554,\n",
              "  1.8412009477615356,\n",
              "  1.7369214296340942,\n",
              "  1.5561879873275757,\n",
              "  1.3186534643173218],\n",
              " 'val_accuracy': [0.028490029275417328,\n",
              "  0.028490029275417328,\n",
              "  0.03988603875041008,\n",
              "  0.06267806142568588,\n",
              "  0.06267806142568588,\n",
              "  0.08547008782625198,\n",
              "  0.09401709586381912,\n",
              "  0.0655270665884018,\n",
              "  0.07407407462596893,\n",
              "  0.09686609357595444,\n",
              "  0.07692307978868484,\n",
              "  0.1111111119389534,\n",
              "  0.1111111119389534,\n",
              "  0.14814814925193787,\n",
              "  0.156695157289505,\n",
              "  0.21937322616577148,\n",
              "  0.20512820780277252,\n",
              "  0.25641027092933655,\n",
              "  0.39316239953041077,\n",
              "  0.3561253547668457,\n",
              "  0.43304842710494995,\n",
              "  0.45299145579338074,\n",
              "  0.45868945121765137,\n",
              "  0.5185185074806213,\n",
              "  0.5242165327072144,\n",
              "  0.5698005557060242,\n",
              "  0.5840455889701843,\n",
              "  0.5726495981216431,\n",
              "  0.62678062915802,\n",
              "  0.6153846383094788,\n",
              "  0.6581196784973145,\n",
              "  0.692307710647583]}"
            ]
          },
          "metadata": {},
          "execution_count": 22
        }
      ]
    },
    {
      "cell_type": "code",
      "source": [
        "#Recording History in json\n",
        "import json\n",
        "with open('training_hist.json','w') as f:\n",
        "  json.dump(training_history.history,f)"
      ],
      "metadata": {
        "id": "0Dw0FYqiLrwb"
      },
      "execution_count": null,
      "outputs": []
    },
    {
      "cell_type": "code",
      "source": [
        "print(training_history.history.keys())"
      ],
      "metadata": {
        "colab": {
          "base_uri": "https://localhost:8080/"
        },
        "id": "dOR9QR7zL5l_",
        "outputId": "f3304cac-3227-4bcf-8ce4-fb149de8ecbd"
      },
      "execution_count": null,
      "outputs": [
        {
          "output_type": "stream",
          "name": "stdout",
          "text": [
            "dict_keys(['loss', 'accuracy', 'val_loss', 'val_accuracy'])\n"
          ]
        }
      ]
    },
    {
      "cell_type": "markdown",
      "source": [
        "## Calculating Accuracy of Model Achieved on Validation set"
      ],
      "metadata": {
        "id": "_4qKfCPhMEEY"
      }
    },
    {
      "cell_type": "code",
      "source": [
        "print(\"Validation set Accuracy: {} %\".format(training_history.history['val_accuracy'][-1]*100))"
      ],
      "metadata": {
        "colab": {
          "base_uri": "https://localhost:8080/"
        },
        "id": "lbY3mgbYL91M",
        "outputId": "98aa3487-cb19-489a-f8fd-456381ba2751"
      },
      "execution_count": null,
      "outputs": [
        {
          "output_type": "stream",
          "name": "stdout",
          "text": [
            "Validation set Accuracy: 69.2307710647583 %\n"
          ]
        }
      ]
    },
    {
      "cell_type": "markdown",
      "source": [
        "##Accuracy Visualization\n",
        "\n",
        "###Training Visualization"
      ],
      "metadata": {
        "id": "S6j3IY7EMTXE"
      }
    },
    {
      "cell_type": "code",
      "source": [
        "epochs = [i for i in range(1,33)]\n",
        "plt.plot(epochs,training_history.history['accuracy'],color='red')\n",
        "plt.xlabel('No. of Epochs')\n",
        "plt.ylabel('Traiining Accuracy')\n",
        "plt.title('Visualization of Training Accuracy Result')\n",
        "plt.show()"
      ],
      "metadata": {
        "colab": {
          "base_uri": "https://localhost:8080/",
          "height": 472
        },
        "id": "YuZ0xeYsMK1o",
        "outputId": "968c27bb-8155-4c86-b361-ea2d11ebb4b0"
      },
      "execution_count": null,
      "outputs": [
        {
          "output_type": "display_data",
          "data": {
            "text/plain": [
              "<Figure size 640x480 with 1 Axes>"
            ],
            "image/png": "[encoded data removed]"
          },
          "metadata": {}
        }
      ]
    },
    {
      "cell_type": "markdown",
      "source": [
        "## Validation Accuracy"
      ],
      "metadata": {
        "id": "WMBnzzd0Mywn"
      }
    },
    {
      "cell_type": "code",
      "source": [
        "plt.plot(epochs,training_history.history['val_accuracy'],color='blue')\n",
        "plt.xlabel('No. of Epochs')\n",
        "plt.ylabel('Validation Accuracy')\n",
        "plt.title('Visualization of Validation Accuracy Result')\n",
        "plt.show()"
      ],
      "metadata": {
        "colab": {
          "base_uri": "https://localhost:8080/",
          "height": 472
        },
        "id": "rJfQiB9cMuzz",
        "outputId": "c284cc42-b7a4-4f25-a7e1-dcd4e045ba34"
      },
      "execution_count": null,
      "outputs": [
        {
          "output_type": "display_data",
          "data": {
            "text/plain": [
              "<Figure size 640x480 with 1 Axes>"
            ],
            "image/png": "[encoded data removed]"
          },
          "metadata": {}
        }
      ]
    },
    {
      "cell_type": "markdown",
      "source": [
        "## Test set evaluation"
      ],
      "metadata": {
        "id": "EqOrE8zgM_ZA"
      }
    },
    {
      "cell_type": "code",
      "source": [
        "test_set = tf.keras.utils.image_dataset_from_directory(\n",
        "    '/content/test',\n",
        "    labels=\"inferred\",\n",
        "    label_mode=\"categorical\",\n",
        "    class_names=None,\n",
        "    color_mode=\"rgb\",\n",
        "    batch_size=32,\n",
        "    image_size=(64, 64),\n",
        "    shuffle=True,\n",
        "    seed=None,\n",
        "    validation_split=None,\n",
        "    subset=None,\n",
        "    interpolation=\"bilinear\",\n",
        "    follow_links=False,\n",
        "    crop_to_aspect_ratio=False\n",
        ")"
      ],
      "metadata": {
        "colab": {
          "base_uri": "https://localhost:8080/"
        },
        "id": "beXxxnhcM8tV",
        "outputId": "a198d848-02db-4f4c-c086-8e87c35dd619"
      },
      "execution_count": null,
      "outputs": [
        {
          "output_type": "stream",
          "name": "stdout",
          "text": [
            "Found 359 files belonging to 36 classes.\n"
          ]
        }
      ]
    },
    {
      "cell_type": "code",
      "source": [
        "test_loss,test_acc = cnn.evaluate(test_set)\n",
        "print('Test accuracy:', test_acc)"
      ],
      "metadata": {
        "colab": {
          "base_uri": "https://localhost:8080/"
        },
        "id": "nq6TbbO2NC1b",
        "outputId": "a04f616d-4fc5-4fd2-c80f-6c0d25c90fc9"
      },
      "execution_count": null,
      "outputs": [
        {
          "output_type": "stream",
          "name": "stdout",
          "text": [
            "12/12 [==============================] - 9s 187ms/step - loss: 1.3181 - accuracy: 0.6964\n",
            "Test accuracy: 0.6963788270950317\n"
          ]
        }
      ]
    },
    {
      "cell_type": "code",
      "source": [],
      "metadata": {
        "id": "ZKiKkKsSNVZe"
      },
      "execution_count": null,
      "outputs": []
    }
  ]
}
